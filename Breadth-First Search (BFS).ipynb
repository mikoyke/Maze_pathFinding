{
 "cells": [
  {
   "cell_type": "code",
   "execution_count": null,
   "id": "5679f551",
   "metadata": {},
   "outputs": [],
   "source": [
    "from collections import deque\n",
    "\n",
    "def hasPath(maze, start, destination):\n",
    "    # Helper function to check if a position is valid within the maze\n",
    "    def is_valid(x, y):\n",
    "        return 0 <= x < len(maze) and 0 <= y < len(maze[0]) and maze[x][y] == 0\n",
    "\n",
    "    # Possible directions for movement: right, left, down, up\n",
    "    directions = [(0, 1), (0, -1), (1, 0), (-1, 0)]\n",
    "\n",
    "    # Initialize a queue with the start position and a set to track visited positions\n",
    "    queue = deque([start])\n",
    "    visited = set()\n",
    "\n",
    "    # Start BFS traversal\n",
    "    while queue:\n",
    "        x, y = queue.popleft()  # Dequeue the front position\n",
    "        visited.add((x, y))  # Mark the current position as visited\n",
    "\n",
    "        # Check if the destination is reached\n",
    "        if [x, y] == destination:\n",
    "            return True\n",
    "\n",
    "        # Explore neighboring positions using the predefined directions\n",
    "        for dx, dy in directions:\n",
    "            nx, ny = x, y\n",
    "            while is_valid(nx + dx, ny + dy):\n",
    "                nx += dx\n",
    "                ny += dy\n",
    "\n",
    "            # Check if the new position is not visited, and if so, add it to the queue\n",
    "            if (nx, ny) not in visited:\n",
    "                queue.append((nx, ny))\n",
    "\n",
    "    # If destination not reached, return False\n",
    "    return False\n"
   ]
  }
 ],
 "metadata": {
  "kernelspec": {
   "display_name": "Python 3 (ipykernel)",
   "language": "python",
   "name": "python3"
  },
  "language_info": {
   "codemirror_mode": {
    "name": "ipython",
    "version": 3
   },
   "file_extension": ".py",
   "mimetype": "text/x-python",
   "name": "python",
   "nbconvert_exporter": "python",
   "pygments_lexer": "ipython3",
   "version": "3.9.12"
  }
 },
 "nbformat": 4,
 "nbformat_minor": 5
}
